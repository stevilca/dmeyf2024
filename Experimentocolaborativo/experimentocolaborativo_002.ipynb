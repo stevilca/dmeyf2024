{
  "cells": [
    {
      "cell_type": "markdown",
      "source": [
        "#**Título** Experimento colaborativo \"canarios asesinos\"\n",
        "\n",
        "## **Autor**: Stella Vilca\n",
        "## **Fecha de última modificación:** 10/11/2024\n",
        "## **Descripción:** ganancia del modelo incluyendo la totalidad de las variables"
      ],
      "metadata": {
        "id": "XBGxj9N7Q_te"
      },
      "id": "XBGxj9N7Q_te"
    },
    {
      "cell_type": "markdown",
      "source": [
        "## Parámetros\n",
        "< Descripción de cada uno de los parámetros que utiliza el job >"
      ],
      "metadata": {
        "id": "NQ0VnWlIRPdQ"
      },
      "id": "NQ0VnWlIRPdQ"
    },
    {
      "cell_type": "code",
      "source": [
        "#variables a setear\n",
        "canaritos_semilla = [191173, 371311, 644117, 998377, 800161] # completar con la semilla personal\n",
        "# resultados de las pruebas\n",
        "resultadosmodelobase = pd.DataFrame({\n",
        "    'Nro',\n",
        "    'Ganancia',\n",
        "    'Semilla'\n",
        "    })\n",
        "ganancia_acierto = 273000 # usado para conocer la ganancia del dataset resultante luego de la eliminacion de variables\n",
        "costo_estimulo = 7000 # usado para conocer la ganancia del dataset resultante luego de la eliminacion de variables\n",
        "mes_train = 202102 # mes de entrenamiento para obtener la ganancia el dataset resultante luego de la eliminacion de variables\n",
        "mes_test = 202104 # mes de test para obtener la ganancia el dataset resultante luego de la eliminacion de variables\n",
        "dataset_path = '/home/stellavilca/buckets/b1/datasets/'\n",
        "dataset_file = 'competencia_02.csv.gz'\n",
        "numero = 1"
      ],
      "metadata": {
        "id": "6Cy4aciNRTsY"
      },
      "id": "6Cy4aciNRTsY",
      "execution_count": null,
      "outputs": []
    },
    {
      "cell_type": "markdown",
      "source": [
        "## Input\n",
        "< Archivos de datos (csv.gz) con sus paths que van a consumirse por el job>\n",
        "\n",
        "Archivo de la competencia 2 con el calculo de la clase ternaria"
      ],
      "metadata": {
        "id": "wHSyw8lORcAe"
      },
      "id": "wHSyw8lORcAe"
    },
    {
      "cell_type": "markdown",
      "source": [
        "## Output\n",
        "\n",
        "< Archivos, bases de datos, modelos que va a generar el job>\n",
        "\n",
        "Archivo resultadosmodelobase.csv con la ganancia obtenida del modelo"
      ],
      "metadata": {
        "id": "T_n210LcRrr2"
      },
      "id": "T_n210LcRrr2"
    },
    {
      "cell_type": "markdown",
      "source": [
        "### Paquetes necesarios"
      ],
      "metadata": {
        "id": "BDGbbyM2R37A"
      },
      "id": "BDGbbyM2R37A"
    },
    {
      "cell_type": "code",
      "execution_count": null,
      "id": "694f0344-966a-4847-b6e7-2fc8d26c79c7",
      "metadata": {
        "id": "694f0344-966a-4847-b6e7-2fc8d26c79c7",
        "outputId": "ac07bda4-bce5-43d0-9e40-d776b596e230"
      },
      "outputs": [
        {
          "data": {
            "text/html": [
              "<style type='text/css'>\n",
              ".datatable table.frame { margin-bottom: 0; }\n",
              ".datatable table.frame thead { border-bottom: none; }\n",
              ".datatable table.frame tr.coltypes td {  color: #FFFFFF;  line-height: 6px;  padding: 0 0.5em;}\n",
              ".datatable .bool    { background: #DDDD99; }\n",
              ".datatable .object  { background: #565656; }\n",
              ".datatable .int     { background: #5D9E5D; }\n",
              ".datatable .float   { background: #4040CC; }\n",
              ".datatable .str     { background: #CC4040; }\n",
              ".datatable .time    { background: #40CC40; }\n",
              ".datatable .row_index {  background: var(--jp-border-color3);  border-right: 1px solid var(--jp-border-color0);  color: var(--jp-ui-font-color3);  font-size: 9px;}\n",
              ".datatable .frame tbody td { text-align: left; }\n",
              ".datatable .frame tr.coltypes .row_index {  background: var(--jp-border-color0);}\n",
              ".datatable th:nth-child(2) { padding-left: 12px; }\n",
              ".datatable .hellipsis {  color: var(--jp-cell-editor-border-color);}\n",
              ".datatable .vellipsis {  background: var(--jp-layout-color0);  color: var(--jp-cell-editor-border-color);}\n",
              ".datatable .na {  color: var(--jp-cell-editor-border-color);  font-size: 80%;}\n",
              ".datatable .sp {  opacity: 0.25;}\n",
              ".datatable .footer { font-size: 9px; }\n",
              ".datatable .frame_dimensions {  background: var(--jp-border-color3);  border-top: 1px solid var(--jp-border-color0);  color: var(--jp-ui-font-color3);  display: inline-block;  opacity: 0.6;  padding: 1px 10px 1px 5px;}\n",
              "</style>\n"
            ],
            "text/plain": [
              "<IPython.core.display.HTML object>"
            ]
          },
          "metadata": {},
          "output_type": "display_data"
        },
        {
          "name": "stderr",
          "output_type": "stream",
          "text": [
            "/home/stellavilca/.venv/lib/python3.12/site-packages/dask/dataframe/__init__.py:42: FutureWarning: \n",
            "Dask dataframe query planning is disabled because dask-expr is not installed.\n",
            "\n",
            "You can install it with `pip install dask[dataframe]` or `conda install dask`.\n",
            "This will raise in a future version.\n",
            "\n",
            "  warnings.warn(msg, FutureWarning)\n"
          ]
        }
      ],
      "source": [
        "import pandas as pd\n",
        "import numpy as np\n",
        "from lightgbm import Dataset, train\n",
        "import lightgbm as lgb\n",
        "import os"
      ]
    },
    {
      "cell_type": "markdown",
      "source": [
        "## Código del proceso\n",
        "\n",
        "< Todo el código a partir de aquí debe poder ejecutarse sin necesidad de parametrizar nada>"
      ],
      "metadata": {
        "id": "MQKVWaqjR-3Q"
      },
      "id": "MQKVWaqjR-3Q"
    },
    {
      "cell_type": "code",
      "execution_count": null,
      "id": "4db12941-22f7-4487-9564-5591d0eb97f4",
      "metadata": {
        "id": "4db12941-22f7-4487-9564-5591d0eb97f4"
      },
      "outputs": [],
      "source": [
        "for valorsemilla in canaritos_semilla:\n",
        "      # Carga del dataset\n",
        "      #dataset_file = 'competencia02_FS.csv.gz'# archivo de la competencia 02 a la que se le calculo previamente la clase ternaria\n",
        "      data = pd.read_csv(dataset_path + dataset_file,compression='gzip')\n",
        "      #np.random.seed(valorsemilla)\n",
        "      data['clase_peso'] = 1.0\n",
        "      data.loc[data['clase_ternaria'] == 'BAJA+2', 'clase_peso'] = 1.00002\n",
        "      data.loc[data['clase_ternaria'] == 'BAJA+1', 'clase_peso'] = 1.00001\n",
        "      data['clase_binaria1'] = 0\n",
        "      data['clase_binaria2'] = 0\n",
        "      data['clase_binaria1'] = np.where(data['clase_ternaria'] == 'BAJA+2', 1, 0)\n",
        "      data['clase_binaria2'] = np.where(data['clase_ternaria'] == 'CONTINUA', 0, 1)\n",
        "      train_data = data[data['foto_mes'] == mes_train]\n",
        "      test_data = data[data['foto_mes'] == mes_test]\n",
        "      X_train = train_data.drop(['clase_ternaria', 'clase_peso', 'clase_binaria1','clase_binaria2'], axis=1)\n",
        "      y_train_binaria1 = train_data['clase_binaria1']\n",
        "      y_train_binaria2 = train_data['clase_binaria2']\n",
        "      w_train = train_data['clase_peso']\n",
        "      X_test = test_data.drop(['clase_ternaria', 'clase_peso', 'clase_binaria1','clase_binaria2'], axis=1)\n",
        "      y_test_binaria1 = test_data['clase_binaria1']\n",
        "      y_test_class = test_data['clase_ternaria']\n",
        "      w_test = test_data['clase_peso']\n",
        "      train_data1 = lgb.Dataset(X_train, label=y_train_binaria1, weight=w_train)\n",
        "      train_data2 = lgb.Dataset(X_train, label=y_train_binaria2, weight=w_train)\n",
        "      params = {\n",
        "        'objective': 'binary',\n",
        "        'boosting_type': 'gbdt',\n",
        "        'first_metric_only': True,\n",
        "        'boost_from_average': True,\n",
        "        'feature_pre_filter': False,\n",
        "        'max_bin': 31,\n",
        "        'num_leaves': 60,\n",
        "        'learning_rate': 0.065,\n",
        "        'min_data_in_leaf': 260,\n",
        "        'feature_fraction': 1.0,\n",
        "        \"max_depth\": -1,\n",
        "        \"min_gain_to_split\": 0.0,\n",
        "        \"lambda_l1\": 0.0,\n",
        "        \"lambda_l2\": 0.0,\n",
        "        \"force_row_wise\": True,\n",
        "        \"num_threads\": 1,\n",
        "        'seed': valorsemilla,\n",
        "        'verbose': 0\n",
        "      }\n",
        "\n",
        "      train_data = lgb.Dataset(X_train,\n",
        "                          label=y_train_binaria2,\n",
        "                          weight=w_train)\n",
        "\n",
        "      model = lgb.train(params,\n",
        "                  train_data,\n",
        "                  num_boost_round=100)\n",
        "\n",
        "      y_pred_lgm = model.predict(X_test)\n",
        "      def ganancia_prob(y_pred, y_true, prop = 1):\n",
        "        ganancia = np.where(y_true == 1, ganancia_acierto, 0) - np.where(y_true == 0, costo_estimulo, 0)\n",
        "        return ganancia[y_pred >= 0.025].sum() / prop\n",
        "      resultadosmodelobase.loc[numero, 'Nro'] = numero\n",
        "      resultadosmodelobase.loc[numero,'Ganancia'] = ganancia_prob(y_pred_lgm, y_test_binaria1)\n",
        "      resultadosmodelobase.loc[numero, 'Semilla'] = valorsemilla\n",
        "      numero = numero +1\n",
        "#guarda los resultados de las pruebas\n",
        "resultadosmodelobase.to_csv(dataset_path + 'resultadosmodelobase.csv', index=False)\n"
      ]
    }
  ],
  "metadata": {
    "kernelspec": {
      "display_name": "Python 3 (ipykernel)",
      "language": "python",
      "name": "python3"
    },
    "language_info": {
      "codemirror_mode": {
        "name": "ipython",
        "version": 3
      },
      "file_extension": ".py",
      "mimetype": "text/x-python",
      "name": "python",
      "nbconvert_exporter": "python",
      "pygments_lexer": "ipython3",
      "version": "3.12.3"
    },
    "colab": {
      "provenance": []
    }
  },
  "nbformat": 4,
  "nbformat_minor": 5
}