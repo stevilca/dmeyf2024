{
  "nbformat": 4,
  "nbformat_minor": 0,
  "metadata": {
    "colab": {
      "provenance": []
    },
    "kernelspec": {
      "name": "python3",
      "display_name": "Python 3"
    },
    "language_info": {
      "name": "python"
    }
  },
  "cells": [
    {
      "cell_type": "markdown",
      "source": [
        "#**Título** Experimento colaborativo \"canarios asesinos\"\n",
        "\n",
        "## **Autor**: Stella Vilca\n",
        "## **Fecha de última modificación:** 10/11/2024\n",
        "## **Descripción:** graficos de los resultados de las pruebas aplicando la técnica de \"canaritos asesinos\""
      ],
      "metadata": {
        "id": "S2cd3_9gOHZa"
      }
    },
    {
      "cell_type": "markdown",
      "source": [
        "## Parámetros\n",
        "< Descripción de cada uno de los parámetros que utiliza el job >"
      ],
      "metadata": {
        "id": "MJSaCKtbOU_n"
      }
    },
    {
      "cell_type": "code",
      "source": [
        "valorreferencia = 145530000 # ganancia del modelo con la totalidad de las variables del dataset"
      ],
      "metadata": {
        "id": "XYBMdkAvOZSQ"
      },
      "execution_count": null,
      "outputs": []
    },
    {
      "cell_type": "markdown",
      "source": [
        "## Input\n",
        "< Archivos de datos (csv.gz) con sus paths que van a consumirse por el job>\n",
        "\n",
        "Archivo de resultados de las pruebas en formato csv, al que se le agrego una columna con la descripcion del número de semilla"
      ],
      "metadata": {
        "id": "-6eTqjd-OnYA"
      }
    },
    {
      "cell_type": "markdown",
      "source": [
        "## Output\n",
        "\n",
        "< Archivos, bases de datos, modelos que va a generar el job>\n",
        "\n",
        "Gráficos para agregar en la presentacion del experimento colaborativo"
      ],
      "metadata": {
        "id": "Zd12Mg4FO6wO"
      }
    },
    {
      "cell_type": "markdown",
      "source": [
        "### Paquetes necesarios"
      ],
      "metadata": {
        "id": "xV4toA0WPGx5"
      }
    },
    {
      "cell_type": "code",
      "execution_count": null,
      "metadata": {
        "id": "hTEvfNEVHmnv"
      },
      "outputs": [],
      "source": [
        "import numpy as np\n",
        "import matplotlib.pyplot as plt\n",
        "import pandas as pd"
      ]
    },
    {
      "cell_type": "markdown",
      "source": [
        "## Código del proceso\n",
        "\n",
        "< Todo el código a partir de aquí debe poder ejecutarse sin necesidad de parametrizar nada>"
      ],
      "metadata": {
        "id": "0IKHsqP2POSe"
      }
    },
    {
      "cell_type": "code",
      "source": [
        "data = pd.read_csv('/content/resultadosexpcol.csv')"
      ],
      "metadata": {
        "id": "d5xjM1qtH7lu"
      },
      "execution_count": null,
      "outputs": []
    },
    {
      "cell_type": "code",
      "source": [
        "data"
      ],
      "metadata": {
        "colab": {
          "base_uri": "https://localhost:8080/",
          "height": 423
        },
        "id": "Gijg16M9KZ4P",
        "outputId": "9e46b843-f8a7-43f8-c2c8-17136dcf342f"
      },
      "execution_count": null,
      "outputs": [
        {
          "output_type": "execute_result",
          "data": {
            "text/plain": [
              "     Nro  Ratio  Desvio  Variables importantes  Eliminadas   Ganancia  \\\n",
              "0    260   2.00       2                     94   39.354839  148323000   \n",
              "1    297   4.00      -1                     63   59.354839  147119000   \n",
              "2    170   3.50       2                     98   36.774194  146909000   \n",
              "3    110   3.50       2                    136   12.258065  146531000   \n",
              "4    209   2.50       1                     73   52.903226  146440000   \n",
              "..   ...    ...     ...                    ...         ...        ...   \n",
              "295  236   4.00      -2                      2   98.709677          0   \n",
              "296  281   3.25      -2                      2   98.709677          0   \n",
              "297  291   3.75      -2                      2   98.709677          0   \n",
              "298  296   4.00      -2                      2   98.709677          0   \n",
              "299   56   4.00      -2                      3   98.064516          0   \n",
              "\n",
              "     SemillaNro   semilla  \n",
              "0        800161  semilla4  \n",
              "1        800161  semilla4  \n",
              "2        644117  semilla3  \n",
              "3        371311  semilla2  \n",
              "4        998377  semilla5  \n",
              "..          ...       ...  \n",
              "295      998377  semilla5  \n",
              "296      800161  semilla4  \n",
              "297      800161  semilla4  \n",
              "298      800161  semilla4  \n",
              "299      191173  semilla1  \n",
              "\n",
              "[300 rows x 8 columns]"
            ],
            "text/html": [
              "\n",
              "  <div id=\"df-19943363-ddb2-4f50-b931-5087eb11d86c\" class=\"colab-df-container\">\n",
              "    <div>\n",
              "<style scoped>\n",
              "    .dataframe tbody tr th:only-of-type {\n",
              "        vertical-align: middle;\n",
              "    }\n",
              "\n",
              "    .dataframe tbody tr th {\n",
              "        vertical-align: top;\n",
              "    }\n",
              "\n",
              "    .dataframe thead th {\n",
              "        text-align: right;\n",
              "    }\n",
              "</style>\n",
              "<table border=\"1\" class=\"dataframe\">\n",
              "  <thead>\n",
              "    <tr style=\"text-align: right;\">\n",
              "      <th></th>\n",
              "      <th>Nro</th>\n",
              "      <th>Ratio</th>\n",
              "      <th>Desvio</th>\n",
              "      <th>Variables importantes</th>\n",
              "      <th>Eliminadas</th>\n",
              "      <th>Ganancia</th>\n",
              "      <th>SemillaNro</th>\n",
              "      <th>semilla</th>\n",
              "    </tr>\n",
              "  </thead>\n",
              "  <tbody>\n",
              "    <tr>\n",
              "      <th>0</th>\n",
              "      <td>260</td>\n",
              "      <td>2.00</td>\n",
              "      <td>2</td>\n",
              "      <td>94</td>\n",
              "      <td>39.354839</td>\n",
              "      <td>148323000</td>\n",
              "      <td>800161</td>\n",
              "      <td>semilla4</td>\n",
              "    </tr>\n",
              "    <tr>\n",
              "      <th>1</th>\n",
              "      <td>297</td>\n",
              "      <td>4.00</td>\n",
              "      <td>-1</td>\n",
              "      <td>63</td>\n",
              "      <td>59.354839</td>\n",
              "      <td>147119000</td>\n",
              "      <td>800161</td>\n",
              "      <td>semilla4</td>\n",
              "    </tr>\n",
              "    <tr>\n",
              "      <th>2</th>\n",
              "      <td>170</td>\n",
              "      <td>3.50</td>\n",
              "      <td>2</td>\n",
              "      <td>98</td>\n",
              "      <td>36.774194</td>\n",
              "      <td>146909000</td>\n",
              "      <td>644117</td>\n",
              "      <td>semilla3</td>\n",
              "    </tr>\n",
              "    <tr>\n",
              "      <th>3</th>\n",
              "      <td>110</td>\n",
              "      <td>3.50</td>\n",
              "      <td>2</td>\n",
              "      <td>136</td>\n",
              "      <td>12.258065</td>\n",
              "      <td>146531000</td>\n",
              "      <td>371311</td>\n",
              "      <td>semilla2</td>\n",
              "    </tr>\n",
              "    <tr>\n",
              "      <th>4</th>\n",
              "      <td>209</td>\n",
              "      <td>2.50</td>\n",
              "      <td>1</td>\n",
              "      <td>73</td>\n",
              "      <td>52.903226</td>\n",
              "      <td>146440000</td>\n",
              "      <td>998377</td>\n",
              "      <td>semilla5</td>\n",
              "    </tr>\n",
              "    <tr>\n",
              "      <th>...</th>\n",
              "      <td>...</td>\n",
              "      <td>...</td>\n",
              "      <td>...</td>\n",
              "      <td>...</td>\n",
              "      <td>...</td>\n",
              "      <td>...</td>\n",
              "      <td>...</td>\n",
              "      <td>...</td>\n",
              "    </tr>\n",
              "    <tr>\n",
              "      <th>295</th>\n",
              "      <td>236</td>\n",
              "      <td>4.00</td>\n",
              "      <td>-2</td>\n",
              "      <td>2</td>\n",
              "      <td>98.709677</td>\n",
              "      <td>0</td>\n",
              "      <td>998377</td>\n",
              "      <td>semilla5</td>\n",
              "    </tr>\n",
              "    <tr>\n",
              "      <th>296</th>\n",
              "      <td>281</td>\n",
              "      <td>3.25</td>\n",
              "      <td>-2</td>\n",
              "      <td>2</td>\n",
              "      <td>98.709677</td>\n",
              "      <td>0</td>\n",
              "      <td>800161</td>\n",
              "      <td>semilla4</td>\n",
              "    </tr>\n",
              "    <tr>\n",
              "      <th>297</th>\n",
              "      <td>291</td>\n",
              "      <td>3.75</td>\n",
              "      <td>-2</td>\n",
              "      <td>2</td>\n",
              "      <td>98.709677</td>\n",
              "      <td>0</td>\n",
              "      <td>800161</td>\n",
              "      <td>semilla4</td>\n",
              "    </tr>\n",
              "    <tr>\n",
              "      <th>298</th>\n",
              "      <td>296</td>\n",
              "      <td>4.00</td>\n",
              "      <td>-2</td>\n",
              "      <td>2</td>\n",
              "      <td>98.709677</td>\n",
              "      <td>0</td>\n",
              "      <td>800161</td>\n",
              "      <td>semilla4</td>\n",
              "    </tr>\n",
              "    <tr>\n",
              "      <th>299</th>\n",
              "      <td>56</td>\n",
              "      <td>4.00</td>\n",
              "      <td>-2</td>\n",
              "      <td>3</td>\n",
              "      <td>98.064516</td>\n",
              "      <td>0</td>\n",
              "      <td>191173</td>\n",
              "      <td>semilla1</td>\n",
              "    </tr>\n",
              "  </tbody>\n",
              "</table>\n",
              "<p>300 rows × 8 columns</p>\n",
              "</div>\n",
              "    <div class=\"colab-df-buttons\">\n",
              "\n",
              "  <div class=\"colab-df-container\">\n",
              "    <button class=\"colab-df-convert\" onclick=\"convertToInteractive('df-19943363-ddb2-4f50-b931-5087eb11d86c')\"\n",
              "            title=\"Convert this dataframe to an interactive table.\"\n",
              "            style=\"display:none;\">\n",
              "\n",
              "  <svg xmlns=\"http://www.w3.org/2000/svg\" height=\"24px\" viewBox=\"0 -960 960 960\">\n",
              "    <path d=\"M120-120v-720h720v720H120Zm60-500h600v-160H180v160Zm220 220h160v-160H400v160Zm0 220h160v-160H400v160ZM180-400h160v-160H180v160Zm440 0h160v-160H620v160ZM180-180h160v-160H180v160Zm440 0h160v-160H620v160Z\"/>\n",
              "  </svg>\n",
              "    </button>\n",
              "\n",
              "  <style>\n",
              "    .colab-df-container {\n",
              "      display:flex;\n",
              "      gap: 12px;\n",
              "    }\n",
              "\n",
              "    .colab-df-convert {\n",
              "      background-color: #E8F0FE;\n",
              "      border: none;\n",
              "      border-radius: 50%;\n",
              "      cursor: pointer;\n",
              "      display: none;\n",
              "      fill: #1967D2;\n",
              "      height: 32px;\n",
              "      padding: 0 0 0 0;\n",
              "      width: 32px;\n",
              "    }\n",
              "\n",
              "    .colab-df-convert:hover {\n",
              "      background-color: #E2EBFA;\n",
              "      box-shadow: 0px 1px 2px rgba(60, 64, 67, 0.3), 0px 1px 3px 1px rgba(60, 64, 67, 0.15);\n",
              "      fill: #174EA6;\n",
              "    }\n",
              "\n",
              "    .colab-df-buttons div {\n",
              "      margin-bottom: 4px;\n",
              "    }\n",
              "\n",
              "    [theme=dark] .colab-df-convert {\n",
              "      background-color: #3B4455;\n",
              "      fill: #D2E3FC;\n",
              "    }\n",
              "\n",
              "    [theme=dark] .colab-df-convert:hover {\n",
              "      background-color: #434B5C;\n",
              "      box-shadow: 0px 1px 3px 1px rgba(0, 0, 0, 0.15);\n",
              "      filter: drop-shadow(0px 1px 2px rgba(0, 0, 0, 0.3));\n",
              "      fill: #FFFFFF;\n",
              "    }\n",
              "  </style>\n",
              "\n",
              "    <script>\n",
              "      const buttonEl =\n",
              "        document.querySelector('#df-19943363-ddb2-4f50-b931-5087eb11d86c button.colab-df-convert');\n",
              "      buttonEl.style.display =\n",
              "        google.colab.kernel.accessAllowed ? 'block' : 'none';\n",
              "\n",
              "      async function convertToInteractive(key) {\n",
              "        const element = document.querySelector('#df-19943363-ddb2-4f50-b931-5087eb11d86c');\n",
              "        const dataTable =\n",
              "          await google.colab.kernel.invokeFunction('convertToInteractive',\n",
              "                                                    [key], {});\n",
              "        if (!dataTable) return;\n",
              "\n",
              "        const docLinkHtml = 'Like what you see? Visit the ' +\n",
              "          '<a target=\"_blank\" href=https://colab.research.google.com/notebooks/data_table.ipynb>data table notebook</a>'\n",
              "          + ' to learn more about interactive tables.';\n",
              "        element.innerHTML = '';\n",
              "        dataTable['output_type'] = 'display_data';\n",
              "        await google.colab.output.renderOutput(dataTable, element);\n",
              "        const docLink = document.createElement('div');\n",
              "        docLink.innerHTML = docLinkHtml;\n",
              "        element.appendChild(docLink);\n",
              "      }\n",
              "    </script>\n",
              "  </div>\n",
              "\n",
              "\n",
              "<div id=\"df-83d073e5-bd3f-495d-910c-4a8ecc2f099b\">\n",
              "  <button class=\"colab-df-quickchart\" onclick=\"quickchart('df-83d073e5-bd3f-495d-910c-4a8ecc2f099b')\"\n",
              "            title=\"Suggest charts\"\n",
              "            style=\"display:none;\">\n",
              "\n",
              "<svg xmlns=\"http://www.w3.org/2000/svg\" height=\"24px\"viewBox=\"0 0 24 24\"\n",
              "     width=\"24px\">\n",
              "    <g>\n",
              "        <path d=\"M19 3H5c-1.1 0-2 .9-2 2v14c0 1.1.9 2 2 2h14c1.1 0 2-.9 2-2V5c0-1.1-.9-2-2-2zM9 17H7v-7h2v7zm4 0h-2V7h2v10zm4 0h-2v-4h2v4z\"/>\n",
              "    </g>\n",
              "</svg>\n",
              "  </button>\n",
              "\n",
              "<style>\n",
              "  .colab-df-quickchart {\n",
              "      --bg-color: #E8F0FE;\n",
              "      --fill-color: #1967D2;\n",
              "      --hover-bg-color: #E2EBFA;\n",
              "      --hover-fill-color: #174EA6;\n",
              "      --disabled-fill-color: #AAA;\n",
              "      --disabled-bg-color: #DDD;\n",
              "  }\n",
              "\n",
              "  [theme=dark] .colab-df-quickchart {\n",
              "      --bg-color: #3B4455;\n",
              "      --fill-color: #D2E3FC;\n",
              "      --hover-bg-color: #434B5C;\n",
              "      --hover-fill-color: #FFFFFF;\n",
              "      --disabled-bg-color: #3B4455;\n",
              "      --disabled-fill-color: #666;\n",
              "  }\n",
              "\n",
              "  .colab-df-quickchart {\n",
              "    background-color: var(--bg-color);\n",
              "    border: none;\n",
              "    border-radius: 50%;\n",
              "    cursor: pointer;\n",
              "    display: none;\n",
              "    fill: var(--fill-color);\n",
              "    height: 32px;\n",
              "    padding: 0;\n",
              "    width: 32px;\n",
              "  }\n",
              "\n",
              "  .colab-df-quickchart:hover {\n",
              "    background-color: var(--hover-bg-color);\n",
              "    box-shadow: 0 1px 2px rgba(60, 64, 67, 0.3), 0 1px 3px 1px rgba(60, 64, 67, 0.15);\n",
              "    fill: var(--button-hover-fill-color);\n",
              "  }\n",
              "\n",
              "  .colab-df-quickchart-complete:disabled,\n",
              "  .colab-df-quickchart-complete:disabled:hover {\n",
              "    background-color: var(--disabled-bg-color);\n",
              "    fill: var(--disabled-fill-color);\n",
              "    box-shadow: none;\n",
              "  }\n",
              "\n",
              "  .colab-df-spinner {\n",
              "    border: 2px solid var(--fill-color);\n",
              "    border-color: transparent;\n",
              "    border-bottom-color: var(--fill-color);\n",
              "    animation:\n",
              "      spin 1s steps(1) infinite;\n",
              "  }\n",
              "\n",
              "  @keyframes spin {\n",
              "    0% {\n",
              "      border-color: transparent;\n",
              "      border-bottom-color: var(--fill-color);\n",
              "      border-left-color: var(--fill-color);\n",
              "    }\n",
              "    20% {\n",
              "      border-color: transparent;\n",
              "      border-left-color: var(--fill-color);\n",
              "      border-top-color: var(--fill-color);\n",
              "    }\n",
              "    30% {\n",
              "      border-color: transparent;\n",
              "      border-left-color: var(--fill-color);\n",
              "      border-top-color: var(--fill-color);\n",
              "      border-right-color: var(--fill-color);\n",
              "    }\n",
              "    40% {\n",
              "      border-color: transparent;\n",
              "      border-right-color: var(--fill-color);\n",
              "      border-top-color: var(--fill-color);\n",
              "    }\n",
              "    60% {\n",
              "      border-color: transparent;\n",
              "      border-right-color: var(--fill-color);\n",
              "    }\n",
              "    80% {\n",
              "      border-color: transparent;\n",
              "      border-right-color: var(--fill-color);\n",
              "      border-bottom-color: var(--fill-color);\n",
              "    }\n",
              "    90% {\n",
              "      border-color: transparent;\n",
              "      border-bottom-color: var(--fill-color);\n",
              "    }\n",
              "  }\n",
              "</style>\n",
              "\n",
              "  <script>\n",
              "    async function quickchart(key) {\n",
              "      const quickchartButtonEl =\n",
              "        document.querySelector('#' + key + ' button');\n",
              "      quickchartButtonEl.disabled = true;  // To prevent multiple clicks.\n",
              "      quickchartButtonEl.classList.add('colab-df-spinner');\n",
              "      try {\n",
              "        const charts = await google.colab.kernel.invokeFunction(\n",
              "            'suggestCharts', [key], {});\n",
              "      } catch (error) {\n",
              "        console.error('Error during call to suggestCharts:', error);\n",
              "      }\n",
              "      quickchartButtonEl.classList.remove('colab-df-spinner');\n",
              "      quickchartButtonEl.classList.add('colab-df-quickchart-complete');\n",
              "    }\n",
              "    (() => {\n",
              "      let quickchartButtonEl =\n",
              "        document.querySelector('#df-83d073e5-bd3f-495d-910c-4a8ecc2f099b button');\n",
              "      quickchartButtonEl.style.display =\n",
              "        google.colab.kernel.accessAllowed ? 'block' : 'none';\n",
              "    })();\n",
              "  </script>\n",
              "</div>\n",
              "\n",
              "  <div id=\"id_797d42b7-3357-4495-9902-fbc132a6278c\">\n",
              "    <style>\n",
              "      .colab-df-generate {\n",
              "        background-color: #E8F0FE;\n",
              "        border: none;\n",
              "        border-radius: 50%;\n",
              "        cursor: pointer;\n",
              "        display: none;\n",
              "        fill: #1967D2;\n",
              "        height: 32px;\n",
              "        padding: 0 0 0 0;\n",
              "        width: 32px;\n",
              "      }\n",
              "\n",
              "      .colab-df-generate:hover {\n",
              "        background-color: #E2EBFA;\n",
              "        box-shadow: 0px 1px 2px rgba(60, 64, 67, 0.3), 0px 1px 3px 1px rgba(60, 64, 67, 0.15);\n",
              "        fill: #174EA6;\n",
              "      }\n",
              "\n",
              "      [theme=dark] .colab-df-generate {\n",
              "        background-color: #3B4455;\n",
              "        fill: #D2E3FC;\n",
              "      }\n",
              "\n",
              "      [theme=dark] .colab-df-generate:hover {\n",
              "        background-color: #434B5C;\n",
              "        box-shadow: 0px 1px 3px 1px rgba(0, 0, 0, 0.15);\n",
              "        filter: drop-shadow(0px 1px 2px rgba(0, 0, 0, 0.3));\n",
              "        fill: #FFFFFF;\n",
              "      }\n",
              "    </style>\n",
              "    <button class=\"colab-df-generate\" onclick=\"generateWithVariable('data')\"\n",
              "            title=\"Generate code using this dataframe.\"\n",
              "            style=\"display:none;\">\n",
              "\n",
              "  <svg xmlns=\"http://www.w3.org/2000/svg\" height=\"24px\"viewBox=\"0 0 24 24\"\n",
              "       width=\"24px\">\n",
              "    <path d=\"M7,19H8.4L18.45,9,17,7.55,7,17.6ZM5,21V16.75L18.45,3.32a2,2,0,0,1,2.83,0l1.4,1.43a1.91,1.91,0,0,1,.58,1.4,1.91,1.91,0,0,1-.58,1.4L9.25,21ZM18.45,9,17,7.55Zm-12,3A5.31,5.31,0,0,0,4.9,8.1,5.31,5.31,0,0,0,1,6.5,5.31,5.31,0,0,0,4.9,4.9,5.31,5.31,0,0,0,6.5,1,5.31,5.31,0,0,0,8.1,4.9,5.31,5.31,0,0,0,12,6.5,5.46,5.46,0,0,0,6.5,12Z\"/>\n",
              "  </svg>\n",
              "    </button>\n",
              "    <script>\n",
              "      (() => {\n",
              "      const buttonEl =\n",
              "        document.querySelector('#id_797d42b7-3357-4495-9902-fbc132a6278c button.colab-df-generate');\n",
              "      buttonEl.style.display =\n",
              "        google.colab.kernel.accessAllowed ? 'block' : 'none';\n",
              "\n",
              "      buttonEl.onclick = () => {\n",
              "        google.colab.notebook.generateWithVariable('data');\n",
              "      }\n",
              "      })();\n",
              "    </script>\n",
              "  </div>\n",
              "\n",
              "    </div>\n",
              "  </div>\n"
            ],
            "application/vnd.google.colaboratory.intrinsic+json": {
              "type": "dataframe",
              "variable_name": "data",
              "summary": "{\n  \"name\": \"data\",\n  \"rows\": 300,\n  \"fields\": [\n    {\n      \"column\": \"Nro\",\n      \"properties\": {\n        \"dtype\": \"number\",\n        \"std\": 86,\n        \"min\": 1,\n        \"max\": 300,\n        \"num_unique_values\": 300,\n        \"samples\": [\n          262,\n          211,\n          173\n        ],\n        \"semantic_type\": \"\",\n        \"description\": \"\"\n      }\n    },\n    {\n      \"column\": \"Ratio\",\n      \"properties\": {\n        \"dtype\": \"number\",\n        \"std\": 0.8644550935101558,\n        \"min\": 1.25,\n        \"max\": 4.0,\n        \"num_unique_values\": 12,\n        \"samples\": [\n          3.25,\n          1.75,\n          2.0\n        ],\n        \"semantic_type\": \"\",\n        \"description\": \"\"\n      }\n    },\n    {\n      \"column\": \"Desvio\",\n      \"properties\": {\n        \"dtype\": \"number\",\n        \"std\": 1,\n        \"min\": -2,\n        \"max\": 2,\n        \"num_unique_values\": 5,\n        \"samples\": [\n          -1,\n          -2,\n          1\n        ],\n        \"semantic_type\": \"\",\n        \"description\": \"\"\n      }\n    },\n    {\n      \"column\": \"Variables importantes\",\n      \"properties\": {\n        \"dtype\": \"number\",\n        \"std\": 36,\n        \"min\": 2,\n        \"max\": 153,\n        \"num_unique_values\": 103,\n        \"samples\": [\n          61,\n          42,\n          141\n        ],\n        \"semantic_type\": \"\",\n        \"description\": \"\"\n      }\n    },\n    {\n      \"column\": \"Eliminadas\",\n      \"properties\": {\n        \"dtype\": \"number\",\n        \"std\": 23.27537136700009,\n        \"min\": 1.290322581,\n        \"max\": 98.70967742,\n        \"num_unique_values\": 103,\n        \"samples\": [\n          60.64516129,\n          72.90322581,\n          9.032258065\n        ],\n        \"semantic_type\": \"\",\n        \"description\": \"\"\n      }\n    },\n    {\n      \"column\": \"Ganancia\",\n      \"properties\": {\n        \"dtype\": \"number\",\n        \"std\": 36572653,\n        \"min\": 0,\n        \"max\": 148323000,\n        \"num_unique_values\": 255,\n        \"samples\": [\n          140042000,\n          146230000,\n          143521000\n        ],\n        \"semantic_type\": \"\",\n        \"description\": \"\"\n      }\n    },\n    {\n      \"column\": \"SemillaNro\",\n      \"properties\": {\n        \"dtype\": \"number\",\n        \"std\": 290362,\n        \"min\": 191173,\n        \"max\": 998377,\n        \"num_unique_values\": 5,\n        \"samples\": [\n          644117,\n          191173,\n          371311\n        ],\n        \"semantic_type\": \"\",\n        \"description\": \"\"\n      }\n    },\n    {\n      \"column\": \"semilla\",\n      \"properties\": {\n        \"dtype\": \"category\",\n        \"num_unique_values\": 5,\n        \"samples\": [\n          \"semilla3\",\n          \"semilla1\",\n          \"semilla2\"\n        ],\n        \"semantic_type\": \"\",\n        \"description\": \"\"\n      }\n    }\n  ]\n}"
            }
          },
          "metadata": {},
          "execution_count": 19
        }
      ]
    },
    {
      "cell_type": "code",
      "source": [
        "data.shape"
      ],
      "metadata": {
        "colab": {
          "base_uri": "https://localhost:8080/"
        },
        "id": "8bZcmKza7Bse",
        "outputId": "8c46821b-1a41-4173-9aae-647511d90018"
      },
      "execution_count": null,
      "outputs": [
        {
          "output_type": "execute_result",
          "data": {
            "text/plain": [
              "(300, 8)"
            ]
          },
          "metadata": {},
          "execution_count": 21
        }
      ]
    },
    {
      "cell_type": "code",
      "source": [
        "#plt.boxplot(data[\"Ganancia\"])\n",
        "\n",
        "data.boxplot(column=\"Ganancia\", by=\"semilla\", grid=False)"
      ],
      "metadata": {
        "colab": {
          "base_uri": "https://localhost:8080/",
          "height": 496
        },
        "id": "VAOpL3mJ7E4D",
        "outputId": "b89404cf-9ade-41fc-df2a-6d39348c092f"
      },
      "execution_count": null,
      "outputs": [
        {
          "output_type": "execute_result",
          "data": {
            "text/plain": [
              "<Axes: title={'center': 'Ganancia'}, xlabel='semilla'>"
            ]
          },
          "metadata": {},
          "execution_count": 33
        },
        {
          "output_type": "display_data",
          "data": {
            "text/plain": [
              "<Figure size 640x480 with 1 Axes>"
            ],
            "image/png": "[encoded data removed]"
          },
          "metadata": {}
        }
      ]
    },
    {
      "cell_type": "code",
      "source": [
        "data.describe()"
      ],
      "metadata": {
        "colab": {
          "base_uri": "https://localhost:8080/",
          "height": 300
        },
        "id": "Y-ReKRSI8vcj",
        "outputId": "e521af4d-62f6-4559-b8b1-afb21ff9e2cd"
      },
      "execution_count": null,
      "outputs": [
        {
          "output_type": "execute_result",
          "data": {
            "text/plain": [
              "              Nro       Ratio      Desvio  Variables importantes  Eliminadas  \\\n",
              "count  300.000000  300.000000  300.000000             300.000000  300.000000   \n",
              "mean   150.500000    2.625000    0.000000              62.033333   59.978495   \n",
              "std     86.746758    0.864455    1.416576              36.076826   23.275371   \n",
              "min      1.000000    1.250000   -2.000000               2.000000    1.290323   \n",
              "25%     75.750000    1.937500   -1.000000              39.000000   49.677419   \n",
              "50%    150.500000    2.625000    0.000000              62.000000   60.000000   \n",
              "75%    225.250000    3.312500    1.000000              78.000000   74.838710   \n",
              "max    300.000000    4.000000    2.000000             153.000000   98.709677   \n",
              "\n",
              "           Ganancia     SemillaNro  \n",
              "count  3.000000e+02     300.000000  \n",
              "mean   1.306003e+08  601027.800000  \n",
              "std    3.657265e+07  290362.889958  \n",
              "min    0.000000e+00  191173.000000  \n",
              "25%    1.395135e+08  371311.000000  \n",
              "50%    1.422155e+08  644117.000000  \n",
              "75%    1.438045e+08  800161.000000  \n",
              "max    1.483230e+08  998377.000000  "
            ],
            "text/html": [
              "\n",
              "  <div id=\"df-c9b7d0d6-7be7-4abc-b4b5-b1173a2ff96f\" class=\"colab-df-container\">\n",
              "    <div>\n",
              "<style scoped>\n",
              "    .dataframe tbody tr th:only-of-type {\n",
              "        vertical-align: middle;\n",
              "    }\n",
              "\n",
              "    .dataframe tbody tr th {\n",
              "        vertical-align: top;\n",
              "    }\n",
              "\n",
              "    .dataframe thead th {\n",
              "        text-align: right;\n",
              "    }\n",
              "</style>\n",
              "<table border=\"1\" class=\"dataframe\">\n",
              "  <thead>\n",
              "    <tr style=\"text-align: right;\">\n",
              "      <th></th>\n",
              "      <th>Nro</th>\n",
              "      <th>Ratio</th>\n",
              "      <th>Desvio</th>\n",
              "      <th>Variables importantes</th>\n",
              "      <th>Eliminadas</th>\n",
              "      <th>Ganancia</th>\n",
              "      <th>SemillaNro</th>\n",
              "    </tr>\n",
              "  </thead>\n",
              "  <tbody>\n",
              "    <tr>\n",
              "      <th>count</th>\n",
              "      <td>300.000000</td>\n",
              "      <td>300.000000</td>\n",
              "      <td>300.000000</td>\n",
              "      <td>300.000000</td>\n",
              "      <td>300.000000</td>\n",
              "      <td>3.000000e+02</td>\n",
              "      <td>300.000000</td>\n",
              "    </tr>\n",
              "    <tr>\n",
              "      <th>mean</th>\n",
              "      <td>150.500000</td>\n",
              "      <td>2.625000</td>\n",
              "      <td>0.000000</td>\n",
              "      <td>62.033333</td>\n",
              "      <td>59.978495</td>\n",
              "      <td>1.306003e+08</td>\n",
              "      <td>601027.800000</td>\n",
              "    </tr>\n",
              "    <tr>\n",
              "      <th>std</th>\n",
              "      <td>86.746758</td>\n",
              "      <td>0.864455</td>\n",
              "      <td>1.416576</td>\n",
              "      <td>36.076826</td>\n",
              "      <td>23.275371</td>\n",
              "      <td>3.657265e+07</td>\n",
              "      <td>290362.889958</td>\n",
              "    </tr>\n",
              "    <tr>\n",
              "      <th>min</th>\n",
              "      <td>1.000000</td>\n",
              "      <td>1.250000</td>\n",
              "      <td>-2.000000</td>\n",
              "      <td>2.000000</td>\n",
              "      <td>1.290323</td>\n",
              "      <td>0.000000e+00</td>\n",
              "      <td>191173.000000</td>\n",
              "    </tr>\n",
              "    <tr>\n",
              "      <th>25%</th>\n",
              "      <td>75.750000</td>\n",
              "      <td>1.937500</td>\n",
              "      <td>-1.000000</td>\n",
              "      <td>39.000000</td>\n",
              "      <td>49.677419</td>\n",
              "      <td>1.395135e+08</td>\n",
              "      <td>371311.000000</td>\n",
              "    </tr>\n",
              "    <tr>\n",
              "      <th>50%</th>\n",
              "      <td>150.500000</td>\n",
              "      <td>2.625000</td>\n",
              "      <td>0.000000</td>\n",
              "      <td>62.000000</td>\n",
              "      <td>60.000000</td>\n",
              "      <td>1.422155e+08</td>\n",
              "      <td>644117.000000</td>\n",
              "    </tr>\n",
              "    <tr>\n",
              "      <th>75%</th>\n",
              "      <td>225.250000</td>\n",
              "      <td>3.312500</td>\n",
              "      <td>1.000000</td>\n",
              "      <td>78.000000</td>\n",
              "      <td>74.838710</td>\n",
              "      <td>1.438045e+08</td>\n",
              "      <td>800161.000000</td>\n",
              "    </tr>\n",
              "    <tr>\n",
              "      <th>max</th>\n",
              "      <td>300.000000</td>\n",
              "      <td>4.000000</td>\n",
              "      <td>2.000000</td>\n",
              "      <td>153.000000</td>\n",
              "      <td>98.709677</td>\n",
              "      <td>1.483230e+08</td>\n",
              "      <td>998377.000000</td>\n",
              "    </tr>\n",
              "  </tbody>\n",
              "</table>\n",
              "</div>\n",
              "    <div class=\"colab-df-buttons\">\n",
              "\n",
              "  <div class=\"colab-df-container\">\n",
              "    <button class=\"colab-df-convert\" onclick=\"convertToInteractive('df-c9b7d0d6-7be7-4abc-b4b5-b1173a2ff96f')\"\n",
              "            title=\"Convert this dataframe to an interactive table.\"\n",
              "            style=\"display:none;\">\n",
              "\n",
              "  <svg xmlns=\"http://www.w3.org/2000/svg\" height=\"24px\" viewBox=\"0 -960 960 960\">\n",
              "    <path d=\"M120-120v-720h720v720H120Zm60-500h600v-160H180v160Zm220 220h160v-160H400v160Zm0 220h160v-160H400v160ZM180-400h160v-160H180v160Zm440 0h160v-160H620v160ZM180-180h160v-160H180v160Zm440 0h160v-160H620v160Z\"/>\n",
              "  </svg>\n",
              "    </button>\n",
              "\n",
              "  <style>\n",
              "    .colab-df-container {\n",
              "      display:flex;\n",
              "      gap: 12px;\n",
              "    }\n",
              "\n",
              "    .colab-df-convert {\n",
              "      background-color: #E8F0FE;\n",
              "      border: none;\n",
              "      border-radius: 50%;\n",
              "      cursor: pointer;\n",
              "      display: none;\n",
              "      fill: #1967D2;\n",
              "      height: 32px;\n",
              "      padding: 0 0 0 0;\n",
              "      width: 32px;\n",
              "    }\n",
              "\n",
              "    .colab-df-convert:hover {\n",
              "      background-color: #E2EBFA;\n",
              "      box-shadow: 0px 1px 2px rgba(60, 64, 67, 0.3), 0px 1px 3px 1px rgba(60, 64, 67, 0.15);\n",
              "      fill: #174EA6;\n",
              "    }\n",
              "\n",
              "    .colab-df-buttons div {\n",
              "      margin-bottom: 4px;\n",
              "    }\n",
              "\n",
              "    [theme=dark] .colab-df-convert {\n",
              "      background-color: #3B4455;\n",
              "      fill: #D2E3FC;\n",
              "    }\n",
              "\n",
              "    [theme=dark] .colab-df-convert:hover {\n",
              "      background-color: #434B5C;\n",
              "      box-shadow: 0px 1px 3px 1px rgba(0, 0, 0, 0.15);\n",
              "      filter: drop-shadow(0px 1px 2px rgba(0, 0, 0, 0.3));\n",
              "      fill: #FFFFFF;\n",
              "    }\n",
              "  </style>\n",
              "\n",
              "    <script>\n",
              "      const buttonEl =\n",
              "        document.querySelector('#df-c9b7d0d6-7be7-4abc-b4b5-b1173a2ff96f button.colab-df-convert');\n",
              "      buttonEl.style.display =\n",
              "        google.colab.kernel.accessAllowed ? 'block' : 'none';\n",
              "\n",
              "      async function convertToInteractive(key) {\n",
              "        const element = document.querySelector('#df-c9b7d0d6-7be7-4abc-b4b5-b1173a2ff96f');\n",
              "        const dataTable =\n",
              "          await google.colab.kernel.invokeFunction('convertToInteractive',\n",
              "                                                    [key], {});\n",
              "        if (!dataTable) return;\n",
              "\n",
              "        const docLinkHtml = 'Like what you see? Visit the ' +\n",
              "          '<a target=\"_blank\" href=https://colab.research.google.com/notebooks/data_table.ipynb>data table notebook</a>'\n",
              "          + ' to learn more about interactive tables.';\n",
              "        element.innerHTML = '';\n",
              "        dataTable['output_type'] = 'display_data';\n",
              "        await google.colab.output.renderOutput(dataTable, element);\n",
              "        const docLink = document.createElement('div');\n",
              "        docLink.innerHTML = docLinkHtml;\n",
              "        element.appendChild(docLink);\n",
              "      }\n",
              "    </script>\n",
              "  </div>\n",
              "\n",
              "\n",
              "<div id=\"df-e75977c2-248e-4850-9b7c-34ed985e4b27\">\n",
              "  <button class=\"colab-df-quickchart\" onclick=\"quickchart('df-e75977c2-248e-4850-9b7c-34ed985e4b27')\"\n",
              "            title=\"Suggest charts\"\n",
              "            style=\"display:none;\">\n",
              "\n",
              "<svg xmlns=\"http://www.w3.org/2000/svg\" height=\"24px\"viewBox=\"0 0 24 24\"\n",
              "     width=\"24px\">\n",
              "    <g>\n",
              "        <path d=\"M19 3H5c-1.1 0-2 .9-2 2v14c0 1.1.9 2 2 2h14c1.1 0 2-.9 2-2V5c0-1.1-.9-2-2-2zM9 17H7v-7h2v7zm4 0h-2V7h2v10zm4 0h-2v-4h2v4z\"/>\n",
              "    </g>\n",
              "</svg>\n",
              "  </button>\n",
              "\n",
              "<style>\n",
              "  .colab-df-quickchart {\n",
              "      --bg-color: #E8F0FE;\n",
              "      --fill-color: #1967D2;\n",
              "      --hover-bg-color: #E2EBFA;\n",
              "      --hover-fill-color: #174EA6;\n",
              "      --disabled-fill-color: #AAA;\n",
              "      --disabled-bg-color: #DDD;\n",
              "  }\n",
              "\n",
              "  [theme=dark] .colab-df-quickchart {\n",
              "      --bg-color: #3B4455;\n",
              "      --fill-color: #D2E3FC;\n",
              "      --hover-bg-color: #434B5C;\n",
              "      --hover-fill-color: #FFFFFF;\n",
              "      --disabled-bg-color: #3B4455;\n",
              "      --disabled-fill-color: #666;\n",
              "  }\n",
              "\n",
              "  .colab-df-quickchart {\n",
              "    background-color: var(--bg-color);\n",
              "    border: none;\n",
              "    border-radius: 50%;\n",
              "    cursor: pointer;\n",
              "    display: none;\n",
              "    fill: var(--fill-color);\n",
              "    height: 32px;\n",
              "    padding: 0;\n",
              "    width: 32px;\n",
              "  }\n",
              "\n",
              "  .colab-df-quickchart:hover {\n",
              "    background-color: var(--hover-bg-color);\n",
              "    box-shadow: 0 1px 2px rgba(60, 64, 67, 0.3), 0 1px 3px 1px rgba(60, 64, 67, 0.15);\n",
              "    fill: var(--button-hover-fill-color);\n",
              "  }\n",
              "\n",
              "  .colab-df-quickchart-complete:disabled,\n",
              "  .colab-df-quickchart-complete:disabled:hover {\n",
              "    background-color: var(--disabled-bg-color);\n",
              "    fill: var(--disabled-fill-color);\n",
              "    box-shadow: none;\n",
              "  }\n",
              "\n",
              "  .colab-df-spinner {\n",
              "    border: 2px solid var(--fill-color);\n",
              "    border-color: transparent;\n",
              "    border-bottom-color: var(--fill-color);\n",
              "    animation:\n",
              "      spin 1s steps(1) infinite;\n",
              "  }\n",
              "\n",
              "  @keyframes spin {\n",
              "    0% {\n",
              "      border-color: transparent;\n",
              "      border-bottom-color: var(--fill-color);\n",
              "      border-left-color: var(--fill-color);\n",
              "    }\n",
              "    20% {\n",
              "      border-color: transparent;\n",
              "      border-left-color: var(--fill-color);\n",
              "      border-top-color: var(--fill-color);\n",
              "    }\n",
              "    30% {\n",
              "      border-color: transparent;\n",
              "      border-left-color: var(--fill-color);\n",
              "      border-top-color: var(--fill-color);\n",
              "      border-right-color: var(--fill-color);\n",
              "    }\n",
              "    40% {\n",
              "      border-color: transparent;\n",
              "      border-right-color: var(--fill-color);\n",
              "      border-top-color: var(--fill-color);\n",
              "    }\n",
              "    60% {\n",
              "      border-color: transparent;\n",
              "      border-right-color: var(--fill-color);\n",
              "    }\n",
              "    80% {\n",
              "      border-color: transparent;\n",
              "      border-right-color: var(--fill-color);\n",
              "      border-bottom-color: var(--fill-color);\n",
              "    }\n",
              "    90% {\n",
              "      border-color: transparent;\n",
              "      border-bottom-color: var(--fill-color);\n",
              "    }\n",
              "  }\n",
              "</style>\n",
              "\n",
              "  <script>\n",
              "    async function quickchart(key) {\n",
              "      const quickchartButtonEl =\n",
              "        document.querySelector('#' + key + ' button');\n",
              "      quickchartButtonEl.disabled = true;  // To prevent multiple clicks.\n",
              "      quickchartButtonEl.classList.add('colab-df-spinner');\n",
              "      try {\n",
              "        const charts = await google.colab.kernel.invokeFunction(\n",
              "            'suggestCharts', [key], {});\n",
              "      } catch (error) {\n",
              "        console.error('Error during call to suggestCharts:', error);\n",
              "      }\n",
              "      quickchartButtonEl.classList.remove('colab-df-spinner');\n",
              "      quickchartButtonEl.classList.add('colab-df-quickchart-complete');\n",
              "    }\n",
              "    (() => {\n",
              "      let quickchartButtonEl =\n",
              "        document.querySelector('#df-e75977c2-248e-4850-9b7c-34ed985e4b27 button');\n",
              "      quickchartButtonEl.style.display =\n",
              "        google.colab.kernel.accessAllowed ? 'block' : 'none';\n",
              "    })();\n",
              "  </script>\n",
              "</div>\n",
              "\n",
              "    </div>\n",
              "  </div>\n"
            ],
            "application/vnd.google.colaboratory.intrinsic+json": {
              "type": "dataframe",
              "summary": "{\n  \"name\": \"data\",\n  \"rows\": 8,\n  \"fields\": [\n    {\n      \"column\": \"Nro\",\n      \"properties\": {\n        \"dtype\": \"number\",\n        \"std\": 107.81683381169819,\n        \"min\": 1.0,\n        \"max\": 300.0,\n        \"num_unique_values\": 6,\n        \"samples\": [\n          300.0,\n          150.5,\n          225.25\n        ],\n        \"semantic_type\": \"\",\n        \"description\": \"\"\n      }\n    },\n    {\n      \"column\": \"Ratio\",\n      \"properties\": {\n        \"dtype\": \"number\",\n        \"std\": 105.2318721737442,\n        \"min\": 0.8644550935101558,\n        \"max\": 300.0,\n        \"num_unique_values\": 7,\n        \"samples\": [\n          300.0,\n          2.625,\n          3.3125\n        ],\n        \"semantic_type\": \"\",\n        \"description\": \"\"\n      }\n    },\n    {\n      \"column\": \"Desvio\",\n      \"properties\": {\n        \"dtype\": \"number\",\n        \"std\": 106.00236696534967,\n        \"min\": -2.0,\n        \"max\": 300.0,\n        \"num_unique_values\": 7,\n        \"samples\": [\n          300.0,\n          0.0,\n          1.0\n        ],\n        \"semantic_type\": \"\",\n        \"description\": \"\"\n      }\n    },\n    {\n      \"column\": \"Variables importantes\",\n      \"properties\": {\n        \"dtype\": \"number\",\n        \"std\": 94.87850214585474,\n        \"min\": 2.0,\n        \"max\": 300.0,\n        \"num_unique_values\": 8,\n        \"samples\": [\n          62.03333333333333,\n          62.0,\n          300.0\n        ],\n        \"semantic_type\": \"\",\n        \"description\": \"\"\n      }\n    },\n    {\n      \"column\": \"Eliminadas\",\n      \"properties\": {\n        \"dtype\": \"number\",\n        \"std\": 92.43801842836734,\n        \"min\": 1.290322581,\n        \"max\": 300.0,\n        \"num_unique_values\": 8,\n        \"samples\": [\n          59.97849462393666,\n          60.0,\n          300.0\n        ],\n        \"semantic_type\": \"\",\n        \"description\": \"\"\n      }\n    },\n    {\n      \"column\": \"Ganancia\",\n      \"properties\": {\n        \"dtype\": \"number\",\n        \"std\": 67741182.15123262,\n        \"min\": 0.0,\n        \"max\": 148323000.0,\n        \"num_unique_values\": 8,\n        \"samples\": [\n          130600330.0,\n          142215500.0,\n          300.0\n        ],\n        \"semantic_type\": \"\",\n        \"description\": \"\"\n      }\n    },\n    {\n      \"column\": \"SemillaNro\",\n      \"properties\": {\n        \"dtype\": \"number\",\n        \"std\": 332459.4184815221,\n        \"min\": 300.0,\n        \"max\": 998377.0,\n        \"num_unique_values\": 8,\n        \"samples\": [\n          601027.8,\n          644117.0,\n          300.0\n        ],\n        \"semantic_type\": \"\",\n        \"description\": \"\"\n      }\n    }\n  ]\n}"
            }
          },
          "metadata": {},
          "execution_count": 10
        }
      ]
    },
    {
      "cell_type": "code",
      "source": [
        "# Resumen estadístico por categoría\n",
        "summary_by_category = data.groupby(\"semilla\")[\"Ganancia\"].describe()\n",
        "\n",
        "# Mostrar el resumen\n",
        "print(summary_by_category)"
      ],
      "metadata": {
        "colab": {
          "base_uri": "https://localhost:8080/"
        },
        "id": "9h8sDFAp9P-t",
        "outputId": "5a0e647f-1072-4394-fe4d-90929e5badd7"
      },
      "execution_count": null,
      "outputs": [
        {
          "output_type": "stream",
          "name": "stdout",
          "text": [
            "          count          mean           std  min          25%          50%  \\\n",
            "semilla                                                                      \n",
            "semilla1   60.0  1.268709e+08  4.300008e+07  0.0  137544750.0  142607500.0   \n",
            "semilla2   60.0  1.326954e+08  3.190781e+07  0.0  140001750.0  142660000.0   \n",
            "semilla3   60.0  1.303646e+08  3.573192e+07  0.0  139109250.0  141718500.0   \n",
            "semilla4   60.0  1.336729e+08  3.215940e+07  0.0  140712250.0  142345000.0   \n",
            "semilla5   60.0  1.293978e+08  3.963116e+07  0.0  139604500.0  142023000.0   \n",
            "\n",
            "                  75%          max  \n",
            "semilla                             \n",
            "semilla1  144098500.0  145866000.0  \n",
            "semilla2  143465000.0  146531000.0  \n",
            "semilla3  143570000.0  146909000.0  \n",
            "semilla4  143820250.0  148323000.0  \n",
            "semilla5  143743250.0  146440000.0  \n"
          ]
        }
      ]
    },
    {
      "cell_type": "code",
      "source": [
        "# Calcular la mediana por categoría\n",
        "mediana_por_categoria = data.groupby(\"semilla\")[\"Ganancia\"].median()\n",
        "\n",
        "# Mostrar el resultado\n",
        "print(mediana_por_categoria)"
      ],
      "metadata": {
        "colab": {
          "base_uri": "https://localhost:8080/"
        },
        "id": "H2Xbcsxp9taK",
        "outputId": "c065e436-52f7-4933-adf6-5a2241043b43"
      },
      "execution_count": null,
      "outputs": [
        {
          "output_type": "stream",
          "name": "stdout",
          "text": [
            "semilla\n",
            "semilla1    142607500.0\n",
            "semilla2    142660000.0\n",
            "semilla3    141718500.0\n",
            "semilla4    142345000.0\n",
            "semilla5    142023000.0\n",
            "Name: Ganancia, dtype: float64\n"
          ]
        }
      ]
    },
    {
      "cell_type": "code",
      "source": [
        "# Calcular la mediana por categoría\n",
        "media_por_categoria = data.groupby(\"semilla\")[\"Ganancia\"].mean()\n",
        "\n",
        "# Mostrar el resultado\n",
        "print(media_por_categoria)"
      ],
      "metadata": {
        "colab": {
          "base_uri": "https://localhost:8080/"
        },
        "id": "FUym15lL_skY",
        "outputId": "c696e1a7-8a50-4239-aaff-3ba4c84ba741"
      },
      "execution_count": null,
      "outputs": [
        {
          "output_type": "stream",
          "name": "stdout",
          "text": [
            "semilla\n",
            "semilla1    1.268709e+08\n",
            "semilla2    1.326954e+08\n",
            "semilla3    1.303646e+08\n",
            "semilla4    1.336729e+08\n",
            "semilla5    1.293978e+08\n",
            "Name: Ganancia, dtype: float64\n"
          ]
        }
      ]
    },
    {
      "cell_type": "code",
      "source": [
        "data = data.sort_values(by='Eliminadas')"
      ],
      "metadata": {
        "id": "rKl7NNh3dhel"
      },
      "execution_count": null,
      "outputs": []
    },
    {
      "cell_type": "code",
      "source": [
        "x1 = data[(data['semilla'] == 'semilla1') ]['Eliminadas']\n",
        "y1 = data[(data['semilla'] == 'semilla1')  ]['Ganancia']\n",
        "\n",
        "x2 = data[(data['semilla'] == 'semilla2')]['Eliminadas']\n",
        "y2 = data[(data['semilla'] == 'semilla2')  ]['Ganancia']\n",
        "\n",
        "\n",
        "x3 = data[(data['semilla'] == 'semilla3') ]['Eliminadas']\n",
        "y3 = data[(data['semilla'] == 'semilla3')  ]['Ganancia']\n",
        "\n",
        "x4 = data[(data['semilla'] == 'semilla4') ]['Eliminadas']\n",
        "y4 = data[(data['semilla'] == 'semilla4')  ]['Ganancia']\n",
        "\n",
        "x5 = data[(data['semilla'] == 'semilla5')]['Eliminadas']\n",
        "y5 = data[(data['semilla'] == 'semilla5')  ]['Ganancia']\n",
        "plt.scatter(x1, y1, color='blue', label='Semilla 1',marker='o')\n",
        "plt.scatter(x2, y2, color='red', label='Semilla 2', marker='o')\n",
        "plt.scatter(x3, y3, color='green', label='Semilla 3', marker='o')\n",
        "plt.scatter(x4, y4, color='black', label='Semilla 4', marker='o')\n",
        "plt.scatter(x5, y5, color='yellow', label='Semilla 5', marker='o')\n",
        "plt.legend()\n",
        "plt.title(\"Porcentaje de variables eliminadas y ganancias\")"
      ],
      "metadata": {
        "colab": {
          "base_uri": "https://localhost:8080/",
          "height": 470
        },
        "id": "1jbeRqSJnkDc",
        "outputId": "7c117526-3a9c-4d25-ee83-5deb364f7e94"
      },
      "execution_count": null,
      "outputs": [
        {
          "output_type": "execute_result",
          "data": {
            "text/plain": [
              "Text(0.5, 1.0, 'Porcentaje de variables eliminadas y ganancias')"
            ]
          },
          "metadata": {},
          "execution_count": 23
        },
        {
          "output_type": "display_data",
          "data": {
            "text/plain": [
              "<Figure size 640x480 with 1 Axes>"
            ],
            "image/png": "[encoded data removed]"
          },
          "metadata": {}
        }
      ]
    },
    {
      "cell_type": "code",
      "source": [
        "x1 = data[(data['semilla'] == 'semilla1') & (data['Ganancia'] > 143696000 )]['Eliminadas']\n",
        "y1 = data[(data['semilla'] == 'semilla1')  & (data['Ganancia'] > 143696000 )]['Ganancia']\n",
        "\n",
        "x2 = data[(data['semilla'] == 'semilla2') & (data['Ganancia'] > 143696000 )]['Eliminadas']\n",
        "y2 = data[(data['semilla'] == 'semilla2')  & (data['Ganancia'] > 143696000 )]['Ganancia']\n",
        "\n",
        "\n",
        "x3 = data[(data['semilla'] == 'semilla3') & (data['Ganancia'] > 143696000 )]['Eliminadas']\n",
        "y3 = data[(data['semilla'] == 'semilla3')  & (data['Ganancia'] > 143696000 )]['Ganancia']\n",
        "\n",
        "x4 = data[(data['semilla'] == 'semilla4') & (data['Ganancia'] > 143696000 )]['Eliminadas']\n",
        "y4 = data[(data['semilla'] == 'semilla4')  & (data['Ganancia'] > 143696000 )]['Ganancia']\n",
        "\n",
        "x5 = data[(data['semilla'] == 'semilla5') & (data['Ganancia'] > 143696000 )]['Eliminadas']\n",
        "y5 = data[(data['semilla'] == 'semilla5')  & (data['Ganancia'] > 143696000 )]['Ganancia']\n",
        "plt.scatter(x1, y1, color='blue', label='Semilla 1',marker='o')\n",
        "plt.scatter(x2, y2, color='red', label='Semilla 2', marker='o')\n",
        "plt.scatter(x3, y3, color='green', label='Semilla 3', marker='o')\n",
        "plt.scatter(x4, y4, color='black', label='Semilla 4', marker='o')\n",
        "plt.scatter(x5, y5, color='yellow', label='Semilla 5', marker='o')\n",
        "plt.legend()\n",
        "plt.title(\"Porcentaje de variables eliminadas y ganancias\")"
      ],
      "metadata": {
        "colab": {
          "base_uri": "https://localhost:8080/",
          "height": 470
        },
        "id": "_N5AIp2knasF",
        "outputId": "2e430df7-5ab7-4c01-9c3b-6a82b599794f"
      },
      "execution_count": null,
      "outputs": [
        {
          "output_type": "execute_result",
          "data": {
            "text/plain": [
              "Text(0.5, 1.0, 'Porcentaje de variables eliminadas y ganancias')"
            ]
          },
          "metadata": {},
          "execution_count": 13
        },
        {
          "output_type": "display_data",
          "data": {
            "text/plain": [
              "<Figure size 640x480 with 1 Axes>"
            ],
            "image/png": "[encoded data removed]"
          },
          "metadata": {}
        }
      ]
    },
    {
      "cell_type": "code",
      "source": [],
      "metadata": {
        "id": "3LgaiZQZnh5c"
      },
      "execution_count": null,
      "outputs": []
    },
    {
      "cell_type": "code",
      "source": [
        "data = data.sort_values(by='Ratio')"
      ],
      "metadata": {
        "id": "2srdSakmf2N7"
      },
      "execution_count": null,
      "outputs": []
    },
    {
      "cell_type": "code",
      "source": [
        "x1 = data[(data['semilla'] == 'semilla1') ]['Ratio']\n",
        "y1 = data[(data['semilla'] == 'semilla1') ]['Ganancia']\n",
        "\n",
        "x2 = data[(data['semilla'] == 'semilla2') ]['Ratio']\n",
        "y2 = data[(data['semilla'] == 'semilla2') ]['Ganancia']\n",
        "\n",
        "\n",
        "x3 = data[(data['semilla'] == 'semilla3') ]['Ratio']\n",
        "y3 = data[(data['semilla'] == 'semilla3') ]['Ganancia']\n",
        "\n",
        "x4 = data[(data['semilla'] == 'semilla4') ]['Ratio']\n",
        "y4 = data[(data['semilla'] == 'semilla4') ]['Ganancia']\n",
        "\n",
        "x5 = data[(data['semilla'] == 'semilla5') ]['Ratio']\n",
        "y5 = data[(data['semilla'] == 'semilla5') ]['Ganancia']\n",
        "plt.scatter(x1, y1, color='blue', label='Semilla 1',marker='o')\n",
        "plt.scatter(x2, y2, color='red', label='Semilla 2', marker='o')\n",
        "plt.scatter(x3, y3, color='green', label='Semilla 3', marker='o')\n",
        "plt.scatter(x4, y4, color='black', label='Semilla 4', marker='o')\n",
        "plt.scatter(x5, y5, color='yellow', label='Semilla 5', marker='o')\n",
        "plt.legend()\n",
        "plt.title(\"Ratio y ganancias\")"
      ],
      "metadata": {
        "colab": {
          "base_uri": "https://localhost:8080/",
          "height": 470
        },
        "id": "xhu5YN0joxRy",
        "outputId": "071d9d4f-d583-48b5-b752-12286bf3d5da"
      },
      "execution_count": null,
      "outputs": [
        {
          "output_type": "execute_result",
          "data": {
            "text/plain": [
              "Text(0.5, 1.0, 'Ratio y ganancias')"
            ]
          },
          "metadata": {},
          "execution_count": 32
        },
        {
          "output_type": "display_data",
          "data": {
            "text/plain": [
              "<Figure size 640x480 with 1 Axes>"
            ],
            "image/png": "[encoded data removed]"
          },
          "metadata": {}
        }
      ]
    },
    {
      "cell_type": "code",
      "source": [
        "x1 = data[(data['semilla'] == 'semilla1') & (data['Ganancia'] > valorreferencia )]['Ratio']\n",
        "y1 = data[(data['semilla'] == 'semilla1')  & (data['Ganancia'] > valorreferencia )]['Ganancia']\n",
        "\n",
        "x2 = data[(data['semilla'] == 'semilla2') & (data['Ganancia'] > valorreferencia )]['Ratio']\n",
        "y2 = data[(data['semilla'] == 'semilla2')  & (data['Ganancia'] > valorreferencia )]['Ganancia']\n",
        "\n",
        "\n",
        "x3 = data[(data['semilla'] == 'semilla3') & (data['Ganancia'] > valorreferencia )]['Ratio']\n",
        "y3 = data[(data['semilla'] == 'semilla3')  & (data['Ganancia'] > valorreferencia )]['Ganancia']\n",
        "\n",
        "x4 = data[(data['semilla'] == 'semilla4') & (data['Ganancia'] > valorreferencia )]['Ratio']\n",
        "y4 = data[(data['semilla'] == 'semilla4')  & (data['Ganancia'] > valorreferencia )]['Ganancia']\n",
        "\n",
        "x5 = data[(data['semilla'] == 'semilla5') & (data['Ganancia'] > valorreferencia )]['Ratio']\n",
        "y5 = data[(data['semilla'] == 'semilla5')  & (data['Ganancia'] > valorreferencia )]['Ganancia']\n",
        "plt.scatter(x1, y1, color='blue', label='Semilla 1',marker='o')\n",
        "plt.scatter(x2, y2, color='red', label='Semilla 2', marker='o')\n",
        "plt.scatter(x3, y3, color='green', label='Semilla 3', marker='o')\n",
        "plt.scatter(x4, y4, color='black', label='Semilla 4', marker='o')\n",
        "plt.scatter(x5, y5, color='yellow', label='Semilla 5', marker='o')\n",
        "plt.legend()\n",
        "plt.title(\"Ratio y ganancias\")"
      ],
      "metadata": {
        "colab": {
          "base_uri": "https://localhost:8080/",
          "height": 470
        },
        "id": "43P2mIJamm3b",
        "outputId": "00aba400-cc12-4668-96c6-92201ef9addb"
      },
      "execution_count": null,
      "outputs": [
        {
          "output_type": "execute_result",
          "data": {
            "text/plain": [
              "Text(0.5, 1.0, 'Ratio y ganancias')"
            ]
          },
          "metadata": {},
          "execution_count": 30
        },
        {
          "output_type": "display_data",
          "data": {
            "text/plain": [
              "<Figure size 640x480 with 1 Axes>"
            ],
            "image/png": "[encoded data removed]"
          },
          "metadata": {}
        }
      ]
    },
    {
      "cell_type": "code",
      "source": [
        "data = data.sort_values(by='Desvio')"
      ],
      "metadata": {
        "id": "ZDNEXAGSiYJ6"
      },
      "execution_count": null,
      "outputs": []
    },
    {
      "cell_type": "code",
      "source": [
        "x1 = data[(data['semilla'] == 'semilla1') ]['Desvio']\n",
        "y1 = data[(data['semilla'] == 'semilla1') ]['Ganancia']\n",
        "\n",
        "x2 = data[(data['semilla'] == 'semilla2') ]['Desvio']\n",
        "y2 = data[(data['semilla'] == 'semilla2') ]['Ganancia']\n",
        "\n",
        "\n",
        "x3 = data[(data['semilla'] == 'semilla3') ]['Desvio']\n",
        "y3 = data[(data['semilla'] == 'semilla3') ]['Ganancia']\n",
        "\n",
        "x4 = data[(data['semilla'] == 'semilla4') ]['Desvio']\n",
        "y4 = data[(data['semilla'] == 'semilla4') ]['Ganancia']\n",
        "\n",
        "x5 = data[(data['semilla'] == 'semilla5') ]['Desvio']\n",
        "y5 = data[(data['semilla'] == 'semilla5') ]['Ganancia']\n",
        "plt.scatter(x1, y1, color='blue', label='Semilla 1',marker='o')\n",
        "plt.scatter(x2, y2, color='red', label='Semilla 2', marker='o')\n",
        "plt.scatter(x3, y3, color='green', label='Semilla 3', marker='o')\n",
        "plt.scatter(x4, y4, color='black', label='Semilla 4', marker='o')\n",
        "plt.scatter(x5, y5, color='yellow', label='Semilla 5', marker='o')\n",
        "plt.legend()\n",
        "plt.title(\"Desvio y ganancias\")"
      ],
      "metadata": {
        "colab": {
          "base_uri": "https://localhost:8080/",
          "height": 470
        },
        "id": "ratfX4bPpj0i",
        "outputId": "ae6229d6-5967-43fb-ba98-eb654f5a93ed"
      },
      "execution_count": null,
      "outputs": [
        {
          "output_type": "execute_result",
          "data": {
            "text/plain": [
              "Text(0.5, 1.0, 'Desvio y ganancias')"
            ]
          },
          "metadata": {},
          "execution_count": 29
        },
        {
          "output_type": "display_data",
          "data": {
            "text/plain": [
              "<Figure size 640x480 with 1 Axes>"
            ],
            "image/png": "[encoded data removed]"
          },
          "metadata": {}
        }
      ]
    },
    {
      "cell_type": "code",
      "source": [
        "x1 = data[(data['semilla'] == 'semilla1') & (data['Ganancia'] > valorreferencia )]['Desvio']\n",
        "y1 = data[(data['semilla'] == 'semilla1')  & (data['Ganancia'] > valorreferencia)]['Ganancia']\n",
        "\n",
        "x2 = data[(data['semilla'] == 'semilla2') & (data['Ganancia'] > valorreferencia )]['Desvio']\n",
        "y2 = data[(data['semilla'] == 'semilla2')  & (data['Ganancia'] > valorreferencia )]['Ganancia']\n",
        "\n",
        "\n",
        "x3 = data[(data['semilla'] == 'semilla3') & (data['Ganancia'] > valorreferencia )]['Desvio']\n",
        "y3 = data[(data['semilla'] == 'semilla3')  & (data['Ganancia'] > valorreferencia )]['Ganancia']\n",
        "\n",
        "x4 = data[(data['semilla'] == 'semilla4') & (data['Ganancia'] > valorreferencia )]['Desvio']\n",
        "y4 = data[(data['semilla'] == 'semilla4')  & (data['Ganancia'] > valorreferencia )]['Ganancia']\n",
        "\n",
        "x5 = data[(data['semilla'] == 'semilla5') & (data['Ganancia'] > valorreferencia )]['Desvio']\n",
        "y5 = data[(data['semilla'] == 'semilla5')  & (data['Ganancia'] > valorreferencia )]['Ganancia']\n",
        "plt.scatter(x1, y1, color='blue', label='Semilla 1',marker='o')\n",
        "plt.scatter(x2, y2, color='red', label='Semilla 2', marker='o')\n",
        "plt.scatter(x3, y3, color='green', label='Semilla 3', marker='o')\n",
        "plt.scatter(x4, y4, color='black', label='Semilla 4', marker='o')\n",
        "plt.scatter(x5, y5, color='yellow', label='Semilla 5', marker='o')\n",
        "plt.legend()\n",
        "plt.title(\"Desvio y ganancias\")"
      ],
      "metadata": {
        "colab": {
          "base_uri": "https://localhost:8080/",
          "height": 470
        },
        "id": "DFvZiCrNjwo8",
        "outputId": "5e79bf1c-b59d-45c0-d5ed-c1eb9453ee87"
      },
      "execution_count": null,
      "outputs": [
        {
          "output_type": "execute_result",
          "data": {
            "text/plain": [
              "Text(0.5, 1.0, 'Desvio y ganancias')"
            ]
          },
          "metadata": {},
          "execution_count": 27
        },
        {
          "output_type": "display_data",
          "data": {
            "text/plain": [
              "<Figure size 640x480 with 1 Axes>"
            ],
            "image/png": "[encoded data removed]"
          },
          "metadata": {}
        }
      ]
    }
  ]
}